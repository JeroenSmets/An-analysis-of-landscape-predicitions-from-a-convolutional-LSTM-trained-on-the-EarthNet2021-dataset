{
 "cells": [
  {
   "cell_type": "code",
   "execution_count": 3,
   "id": "9454cb68",
   "metadata": {},
   "outputs": [
    {
     "ename": "SyntaxError",
     "evalue": "invalid syntax (1635086777.py, line 1)",
     "output_type": "error",
     "traceback": [
      "\u001b[1;36m  Cell \u001b[1;32mIn[3], line 1\u001b[1;36m\u001b[0m\n\u001b[1;33m    python C:\\Users\\jeroe\\Documents\\Masterthesis\\weather2land\\code\\src\\models\\pt_convlstm\\train.py --setting=\"C:\\Users\\jeroe\\Documents\\Masterthesis\\weather2land\\code\\src\\models\\pt_convlstm\\configs\\conv_lstm.yaml\"\u001b[0m\n\u001b[1;37m           ^\u001b[0m\n\u001b[1;31mSyntaxError\u001b[0m\u001b[1;31m:\u001b[0m invalid syntax\n"
     ]
    }
   ],
   "source": [
    "python C:\\Users\\jeroe\\Documents\\Masterthesis\\weather2land\\code\\src\\models\\pt_convlstm\\train.py --setting=\"C:\\Users\\jeroe\\Documents\\Masterthesis\\weather2land\\code\\src\\models\\pt_convlstm\\configs\\conv_lstm.yaml\""
   ]
  },
  {
   "cell_type": "code",
   "execution_count": null,
   "id": "a3408628",
   "metadata": {},
   "outputs": [],
   "source": []
  }
 ],
 "metadata": {
  "kernelspec": {
   "display_name": "Python 3 (ipykernel)",
   "language": "python",
   "name": "python3"
  },
  "language_info": {
   "codemirror_mode": {
    "name": "ipython",
    "version": 3
   },
   "file_extension": ".py",
   "mimetype": "text/x-python",
   "name": "python",
   "nbconvert_exporter": "python",
   "pygments_lexer": "ipython3",
   "version": "3.9.1"
  }
 },
 "nbformat": 4,
 "nbformat_minor": 5
}
